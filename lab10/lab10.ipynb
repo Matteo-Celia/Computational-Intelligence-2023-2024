{
 "cells": [
  {
   "cell_type": "markdown",
   "metadata": {},
   "source": [
    "## Reinforcement Learning"
   ]
  },
  {
   "cell_type": "code",
   "execution_count": 280,
   "metadata": {},
   "outputs": [],
   "source": [
    "import numpy as np \n",
    "import pickle \n",
    "from collections import namedtuple, defaultdict\n",
    "from itertools import combinations\n",
    "from random import choice, random\n",
    "from tqdm.auto import tqdm\n",
    "from copy import deepcopy\n",
    "import matplotlib.pyplot as plt\n"
   ]
  },
  {
   "cell_type": "code",
   "execution_count": 3,
   "metadata": {},
   "outputs": [],
   "source": [
    "State = namedtuple('State', ['x','o'])"
   ]
  },
  {
   "cell_type": "code",
   "execution_count": 4,
   "metadata": {},
   "outputs": [],
   "source": [
    "MAGIC = [2,7,6,\n",
    "         9,5,1,\n",
    "         4,3,8]"
   ]
  },
  {
   "cell_type": "code",
   "execution_count": 5,
   "metadata": {},
   "outputs": [],
   "source": [
    "def print_board(pos):\n",
    "    for r in range(3):\n",
    "        for c in range(3):\n",
    "            i = r*3+c\n",
    "            if MAGIC[i] in pos.x:\n",
    "                print('X', end='')\n",
    "            elif MAGIC[i] in pos.o:\n",
    "                print('O', end='')\n",
    "            else:\n",
    "                print('.', end='')\n",
    "        print()\n",
    "    print()     \n"
   ]
  },
  {
   "cell_type": "code",
   "execution_count": 6,
   "metadata": {},
   "outputs": [],
   "source": [
    "def win(elements):\n",
    "    \"\"\"Check if elements is winning\"\"\"\n",
    "    return any(sum(c)== 15 for c in combinations(elements,3))\n",
    "\n",
    "def state_value(state: State):\n",
    "    \"\"\"Evaluate position: +1 first player wins\"\"\"\n",
    "    if win(state.x):\n",
    "        return 1\n",
    "    elif win(state.o):\n",
    "        return -1\n",
    "    else:\n",
    "        return 0"
   ]
  },
  {
   "cell_type": "code",
   "execution_count": 13,
   "metadata": {},
   "outputs": [],
   "source": [
    "Action = namedtuple('Action', ['player','move'])"
   ]
  },
  {
   "cell_type": "code",
   "execution_count": 14,
   "metadata": {},
   "outputs": [],
   "source": [
    "def win(elements):\n",
    "    \"\"\"Check if elements is winning\"\"\"\n",
    "    return any(sum(c)== 15 for c in combinations(elements,3))"
   ]
  },
  {
   "cell_type": "code",
   "execution_count": 15,
   "metadata": {},
   "outputs": [],
   "source": [
    "def action_value(state: State):\n",
    "    \"\"\"Evaluate position: +1 first player wins\"\"\"\n",
    "    if win(state.x):\n",
    "        return 1\n",
    "    elif win(state.o):\n",
    "        return -1\n",
    "    else:\n",
    "        return 0"
   ]
  },
  {
   "cell_type": "code",
   "execution_count": 16,
   "metadata": {},
   "outputs": [],
   "source": [
    "def random_game_Q():\n",
    "    trajectory = list()\n",
    "    state= State(set(),set())\n",
    "    available = set(range(1,9+1))\n",
    "    while available:\n",
    "    \n",
    "        x = choice(list(available))\n",
    "        action = Action('x',x)\n",
    "        \n",
    "        trajectory.append(tuple((deepcopy(state),deepcopy(action))))\n",
    "        \n",
    "        available.remove(x)\n",
    "        state.x.add(x)\n",
    "        if win(state.x) or not available:\n",
    "            trajectory.append(tuple((deepcopy(state),deepcopy(Action('o',None)))))\n",
    "            break\n",
    "        \n",
    "\n",
    "\n",
    "        o = choice(list(available))\n",
    "        action = Action('o',o)\n",
    "        trajectory.append(tuple((deepcopy(state),deepcopy(action))))\n",
    "        \n",
    "        available.remove(o)\n",
    "        state.o.add(o)\n",
    "        if win(state.o):\n",
    "            trajectory.append(tuple((deepcopy(state),deepcopy(Action('x',None)))))\n",
    "            break\n",
    "        \n",
    "\n",
    "    return trajectory"
   ]
  },
  {
   "cell_type": "code",
   "execution_count": 17,
   "metadata": {},
   "outputs": [],
   "source": [
    "def epsilon_greedy_policy(available,state, Q_table, epsilon):\n",
    "    if random() < epsilon:\n",
    "        # Explore: Choose a random action (random empty cell on the board)\n",
    "        action = choice(list(available))  \n",
    "\n",
    "    else:\n",
    "        # Exploit: Choose the action with the highest Q-value for the current state\n",
    "        hashable_state = State(frozenset(state.x),frozenset(state.o))\n",
    "        action =  max(available, key=lambda x: Q_table[(tuple((hashable_state, Action('x',x))))])  # Choose action with the highest Q-value\n",
    "        \n",
    "    return action"
   ]
  },
  {
   "cell_type": "markdown",
   "metadata": {},
   "source": [
    "### Q-learning"
   ]
  },
  {
   "cell_type": "code",
   "execution_count": 292,
   "metadata": {},
   "outputs": [],
   "source": [
    "def update_Q(Q, state_action, next_state, reward, alpha, gamma):\n",
    "    # Q-learning update rule\n",
    "    # select min Q-value for the next state: the next state is the opponents turn so this \n",
    "    # strategy considers an opponent who plays the best move according to the current policy\n",
    "    max_next_Q = (np.min(val for key, val in Q.items() if key[0] == next_state)) if next_state in Q else 0  \n",
    "    current_Q = Q.get(state_action, 0)  # Current Q-value for the current state-action pair\n",
    "    new_Q = current_Q + alpha * (reward + gamma * (max_next_Q) - current_Q)  # Updated Q-value\n",
    "    Q[state_action] = new_Q  # Update Q-value in the Q-table\n",
    "    return Q  # Return the updated Q-table"
   ]
  },
  {
   "cell_type": "markdown",
   "metadata": {},
   "source": [
    "#### Exploit symmetries"
   ]
  },
  {
   "cell_type": "code",
   "execution_count": 23,
   "metadata": {},
   "outputs": [],
   "source": [
    "# used to change the state representation to one that's simpler to compute symmetries for\n",
    "# X:1, O:2, not selected: 0\n",
    "def change_representation(state, single_array=True):\n",
    "    if single_array:\n",
    "        game = np.zeros(9)\n",
    "        for x in state.x:\n",
    "            game[MAGIC.index(x)]=1\n",
    "        for o in state.o:\n",
    "            game[MAGIC.index(o)]=2\n",
    "        return game\n",
    "    else:\n",
    "        game=State(set(),set())\n",
    "        for i in range(len(state)):\n",
    "            if state[i]==1:\n",
    "                game.x.add(MAGIC[i])\n",
    "            elif state[i]==2:\n",
    "                game.o.add(MAGIC[i])\n",
    "        return game"
   ]
  },
  {
   "cell_type": "code",
   "execution_count": 24,
   "metadata": {},
   "outputs": [],
   "source": [
    "def rotate_90(sequence):\n",
    "    # Rotate a sequence by 90 degrees clockwise\n",
    "    return [sequence[6], sequence[3], sequence[0], sequence[7], sequence[4], sequence[1], sequence[8], sequence[5], sequence[2]]\n",
    "\n",
    "# Function to reflect the sequence horizontally\n",
    "def reflect_horizontal(sequence):\n",
    "    # Reflect a sequence horizontally\n",
    "    return [sequence[2], sequence[1], sequence[0], sequence[5], sequence[4], sequence[3], sequence[8], sequence[7], sequence[6]]\n",
    "\n",
    "# Function to reflect the sequence vertically\n",
    "def reflect_vertical(sequence):\n",
    "    # Reflect a sequence vertically\n",
    "    return [sequence[6], sequence[7], sequence[8], sequence[3], sequence[4], sequence[5], sequence[0], sequence[1], sequence[2]]\n"
   ]
  },
  {
   "cell_type": "code",
   "execution_count": 25,
   "metadata": {},
   "outputs": [],
   "source": [
    "def get_game_metrics(game):\n",
    "    #compute the metrics used to evaluate which base case to use \n",
    "    # for each set of symmetries (more info in the README)\n",
    "    metrics=[0,0,1,1]\n",
    "    for i in range(len(game)):\n",
    "        if game[i]==1:\n",
    "            metrics[0]+= i+1\n",
    "            metrics[2]*= i+1\n",
    "        elif game[i] ==2:\n",
    "            metrics[1]+= i+1\n",
    "            metrics[3]*= i+1\n",
    "\n",
    "    return metrics"
   ]
  },
  {
   "cell_type": "code",
   "execution_count": 388,
   "metadata": {},
   "outputs": [],
   "source": [
    "#compute the base case for a given state\n",
    "def compute_base_case(state):\n",
    "\n",
    "    #change representation\n",
    "    game=change_representation(state,True)\n",
    "\n",
    "    #compute symmetries\n",
    "    symmetries=list()\n",
    "    rotations=[]\n",
    "    rotations.append(game)\n",
    "    rotated= deepcopy(game)\n",
    "    for _ in range(3):\n",
    "        rotated = rotate_90(rotated)\n",
    "        rotations.append(rotated)\n",
    "\n",
    "    symmetries.extend(rotations)\n",
    "    for r in rotations:\n",
    "        symmetries.append(reflect_vertical(r))\n",
    "\n",
    "   \n",
    "    #select the base case \n",
    "    metrics_dict={}\n",
    "    for i in range(len(symmetries)):\n",
    "\n",
    "        metrics_dict[i]=get_game_metrics(symmetries[i])\n",
    "    l=dict(sorted(metrics_dict.items(), key=lambda x: x[1]))\n",
    "    \n",
    "    base_case_idx = list(dict(sorted(metrics_dict.items(), key=lambda x: x[1])).keys())[0]\n",
    "    # select the base case and go back to the previous state representation\n",
    "    return change_representation(symmetries[base_case_idx],False)"
   ]
  },
  {
   "cell_type": "code",
   "execution_count": 395,
   "metadata": {},
   "outputs": [],
   "source": [
    "def play_game(Q_table, first, sym=False):\n",
    "    state= State(set(),set())\n",
    "    available = set(range(1,9+1))\n",
    "    while available:\n",
    "        \n",
    "        if first:\n",
    "            hashable_state = State(frozenset(state.x),frozenset(state.o))\n",
    "            x = max(available, key=lambda x: Q_table[(tuple((hashable_state, Action('x',x))))])\n",
    "        else:\n",
    "            x = choice(list(available))\n",
    "        state.x.add(x)\n",
    "\n",
    "        if sym:\n",
    "            state = compute_base_case(state)\n",
    "        available.remove(x)\n",
    "        \n",
    "        if win(state.x):\n",
    "            return 1\n",
    "        if not available:\n",
    "            break\n",
    "        \n",
    "        if first:\n",
    "            o = choice(list(available))\n",
    "        else:\n",
    "            hashable_state = State(frozenset(state.x),frozenset(state.o))\n",
    "            o = min(available, key=lambda o: Q_table[(tuple((hashable_state, Action('o',o))))])\n",
    "        state.o.add(o)\n",
    "        available.remove(o)\n",
    "        if sym:\n",
    "            state = compute_base_case(state)\n",
    "        if win(state.o):\n",
    "            return -1\n",
    "        if not available:\n",
    "            break\n",
    "    return 0\n",
    "    "
   ]
  },
  {
   "cell_type": "code",
   "execution_count": 397,
   "metadata": {},
   "outputs": [],
   "source": [
    "def evaluate_Agent(Q_table,first,sym):\n",
    "    won=0\n",
    "    lost=0\n",
    "    draw=0\n",
    "    games= 100_000\n",
    "    winnings=np.zeros(games)\n",
    "    for i in tqdm(range(games)):\n",
    "        \n",
    "        w = play_game(Q_table,first,sym)\n",
    "        if w==1:\n",
    "            won+=1\n",
    "        elif w==0:\n",
    "            draw+=1\n",
    "        elif w==-1:\n",
    "            lost+=1\n",
    "            \n",
    "        winnings[i]=won/(i+1)\n",
    "    perc_won=won/games\n",
    "    perc_lost=lost/games\n",
    "    perc_draw=draw/games\n",
    "\n",
    "    print(\"The percentage of won/lost/drawn games for X is: \",perc_won,perc_lost,perc_draw)\n",
    "    print(\"The size of the table is :\", len(Q_table))\n",
    "    plt.plot(range(1, games + 1), winnings)\n",
    "    plt.title('Percentage of won games over the iterations')\n",
    "    plt.xlabel('Number of games played')\n",
    "    plt.ylabel('\"%\" of Won games')\n",
    "    plt.show()"
   ]
  },
  {
   "cell_type": "code",
   "execution_count": 336,
   "metadata": {},
   "outputs": [],
   "source": [
    "def agent_game_Q(Q_table, epsilon=0.15, same_policy=False, print_game = False,sym=False):\n",
    "    trajectory = list()\n",
    "    state= State(set(),set())\n",
    "    available = set(range(1,9+1))\n",
    "    while available:\n",
    "        \n",
    "        if print_game:\n",
    "            print_board(state)\n",
    "\n",
    "        #agent move\n",
    "        x = epsilon_greedy_policy(available,state,Q_table,epsilon)\n",
    "        action = Action('x',x)\n",
    "        \n",
    "        trajectory.append(tuple((deepcopy(state),deepcopy(action))))\n",
    "        \n",
    "        available.remove(x)\n",
    "        state.x.add(x)\n",
    "\n",
    "        if sym:\n",
    "            state= compute_base_case(state)\n",
    "\n",
    "        if win(state.x) or not available:\n",
    "            trajectory.append(tuple((deepcopy(state),deepcopy(Action('o',None)))))\n",
    "            if print_game:\n",
    "                print_board(state)\n",
    "            break\n",
    "        \n",
    "        if print_game:\n",
    "            print_board(state)\n",
    "\n",
    "        # opponent move\n",
    "        if same_policy:\n",
    "            o = epsilon_greedy_policy(available,state,Q_table,epsilon)\n",
    "        else:\n",
    "            o = choice(list(available))\n",
    "        action = Action('o',o)\n",
    "        trajectory.append(tuple((deepcopy(state),deepcopy(action))))\n",
    "        \n",
    "        available.remove(o)\n",
    "        state.o.add(o)\n",
    "\n",
    "        if sym:\n",
    "            state= compute_base_case(state)\n",
    "            \n",
    "        if win(state.o):\n",
    "            trajectory.append(tuple((deepcopy(state),deepcopy(Action('x',None)))))\n",
    "            if print_game:\n",
    "                print_board(state)\n",
    "            break\n",
    "        \n",
    "        \n",
    "\n",
    "    return trajectory"
   ]
  },
  {
   "cell_type": "code",
   "execution_count": 394,
   "metadata": {},
   "outputs": [],
   "source": [
    "def Q_learning( sym=False, on_policy=False,alpha = 0.4,gamma = 1):\n",
    "\n",
    "    Q_table = defaultdict(float)\n",
    "    \n",
    "    for _ in tqdm(range(100_000)):\n",
    "        if on_policy:\n",
    "            trajectory = agent_game_Q(Q_table,sym=sym)\n",
    "        else:\n",
    "            trajectory = random_game_Q()\n",
    "\n",
    "        final_reward = action_value(trajectory[-1][0])\n",
    "\n",
    "        for state, action in trajectory:\n",
    "            player_state_map = {'x': deepcopy(state.x), 'o': deepcopy(state.o)}\n",
    "            \n",
    "            hashable_state = State(frozenset(state.x),frozenset(state.o))\n",
    "            state_action = tuple((hashable_state,action))\n",
    "            #select next state according to the action of this step\n",
    "            next_state = player_state_map[action.player].add(action.move)\n",
    "            if sym and next_state:\n",
    "                next_state=compute_base_case(next_state)\n",
    "            #update Q table\n",
    "            Q_table = update_Q(Q_table,state_action,next_state,final_reward,alpha,gamma)\n",
    "    return Q_table"
   ]
  },
  {
   "cell_type": "code",
   "execution_count": 432,
   "metadata": {},
   "outputs": [
    {
     "name": "stderr",
     "output_type": "stream",
     "text": [
      "  0%|          | 0/100000 [00:00<?, ?it/s]"
     ]
    },
    {
     "name": "stderr",
     "output_type": "stream",
     "text": [
      "100%|██████████| 100000/100000 [00:39<00:00, 2522.18it/s]\n",
      "100%|██████████| 100000/100000 [00:23<00:00, 4172.29it/s]\n"
     ]
    },
    {
     "name": "stdout",
     "output_type": "stream",
     "text": [
      "The percentage of won/lost/drawn games for X is:  0.00794 0.70938 0.28268\n",
      "The size of the table is : 13260\n"
     ]
    },
    {
     "data": {
      "image/png": "[encoded data removed]",
      "text/plain": [
       "<Figure size 640x480 with 1 Axes>"
      ]
     },
     "metadata": {},
     "output_type": "display_data"
    }
   ],
   "source": [
    "Q_table=Q_learning(sym=True,on_policy=True)\n",
    "evaluate_Agent(Q_table,first=False,sym=True)"
   ]
  },
  {
   "cell_type": "markdown",
   "metadata": {},
   "source": [
    "### Monte Carlo"
   ]
  },
  {
   "cell_type": "code",
   "execution_count": 416,
   "metadata": {},
   "outputs": [],
   "source": [
    "def MC(on_policy = False, sym =False):\n",
    "    \n",
    "    Q = defaultdict(float)\n",
    "    N = defaultdict(int)\n",
    "    for _ in tqdm(range(200_000)):\n",
    "        if on_policy:\n",
    "            trajectory = agent_game_Q(Q,sym=sym)\n",
    "        else:\n",
    "            trajectory = random_game_Q()\n",
    "        \n",
    "        final_reward = action_value(trajectory[-1][0])\n",
    "\n",
    "        for state, action in trajectory:\n",
    "            # exploit symmetries\n",
    "            if sym:\n",
    "                state=compute_base_case(state)\n",
    "            hashable_state = State(frozenset(state.x),frozenset(state.o))\n",
    "            state_action = tuple((hashable_state,action))\n",
    "           \n",
    "            # Update N-values (visit count for state-action pairs)\n",
    "            N[state_action] += 1\n",
    "\n",
    "            # Update Q-value using incremental update rule\n",
    "            Q[state_action] += (1 / N[state_action]) * (final_reward - Q[state_action])\n",
    "    \n",
    "    return Q"
   ]
  },
  {
   "cell_type": "code",
   "execution_count": 435,
   "metadata": {},
   "outputs": [
    {
     "name": "stderr",
     "output_type": "stream",
     "text": [
      "  0%|          | 0/200000 [00:00<?, ?it/s]"
     ]
    },
    {
     "name": "stderr",
     "output_type": "stream",
     "text": [
      "100%|██████████| 200000/200000 [01:49<00:00, 1829.46it/s]\n"
     ]
    }
   ],
   "source": [
    "Q = MC(on_policy=True,sym=True)\n"
   ]
  },
  {
   "cell_type": "code",
   "execution_count": 437,
   "metadata": {},
   "outputs": [
    {
     "name": "stderr",
     "output_type": "stream",
     "text": [
      "100%|██████████| 100000/100000 [00:25<00:00, 3916.83it/s]\n"
     ]
    },
    {
     "name": "stdout",
     "output_type": "stream",
     "text": [
      "The percentage of won/lost/drawn games for X is:  0.00332 0.6586 0.33808\n",
      "The size of the table is : 10864\n"
     ]
    },
    {
     "data": {
      "image/png": "[encoded data removed]",
      "text/plain": [
       "<Figure size 640x480 with 1 Axes>"
      ]
     },
     "metadata": {},
     "output_type": "display_data"
    }
   ],
   "source": [
    "evaluate_Agent(Q,first=False,sym=True)"
   ]
  }
 ],
 "metadata": {
  "kernelspec": {
   "display_name": "venv",
   "language": "python",
   "name": "python3"
  },
  "language_info": {
   "codemirror_mode": {
    "name": "ipython",
    "version": 3
   },
   "file_extension": ".py",
   "mimetype": "text/x-python",
   "name": "python",
   "nbconvert_exporter": "python",
   "pygments_lexer": "ipython3",
   "version": "3.10.5"
  }
 },
 "nbformat": 4,
 "nbformat_minor": 2
}
